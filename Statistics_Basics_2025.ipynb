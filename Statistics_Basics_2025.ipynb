{
  "nbformat": 4,
  "nbformat_minor": 0,
  "metadata": {
    "colab": {
      "provenance": []
    },
    "kernelspec": {
      "name": "python3",
      "display_name": "Python 3"
    },
    "language_info": {
      "name": "python"
    }
  },
  "cells": [
    {
      "cell_type": "markdown",
      "source": [
        "### **1. What are descriptive and inferential statistics? How do they differ?**\n",
        "\n",
        "**Descriptive Statistics:**\n",
        "\n",
        "* Summarizes or describes characteristics of a dataset.\n",
        "* Examples: mean, median, mode, standard deviation, frequency.\n",
        "\n",
        "**Inferential Statistics:**\n",
        "\n",
        "* Makes predictions or inferences about a population based on a sample.\n",
        "* Examples: hypothesis testing, confidence intervals, regression.\n",
        "\n",
        "**Difference:**\n",
        "\n",
        "| Feature    | Descriptive Statistics | Inferential Statistics          |\n",
        "| ---------- | ---------------------- | ------------------------------- |\n",
        "| Purpose    | Describe data          | Draw conclusions from data      |\n",
        "| Based on   | Entire dataset         | Sample of data                  |\n",
        "| Techniques | Mean, median, SD       | t-tests, chi-square, regression |\n",
        "\n",
        "---\n",
        "\n",
        "### **2. Explain the importance of sampling in statistics.**\n",
        "\n",
        "**Sampling** allows us to:\n",
        "\n",
        "* Study large populations efficiently.\n",
        "* Reduce time and cost.\n",
        "* Draw valid inferences using representative data.\n",
        "* Avoid biases if done properly (e.g., via random or stratified sampling).\n",
        "\n",
        "Example:\n",
        "\n",
        "* A company surveys 1,000 customers out of 1 million to estimate satisfaction.\n",
        "\n",
        "---\n",
        "\n",
        "### **3. Why are measures of central tendency important in data analysis?**\n",
        "\n",
        "They help to:\n",
        "\n",
        "* Understand the center/typical value of a dataset.\n",
        "* Compare different datasets.\n",
        "* Make quick summaries of large data.\n",
        "* Identify skewness or outliers.\n",
        "\n",
        "Used in:\n",
        "\n",
        "* Business KPIs, test scores, average revenue, etc.\n",
        "\n",
        "---\n",
        "\n",
        "### **4. What is the significance of the mean, median, and mode in understanding data?**\n",
        "\n",
        "| Measure | Usefulness    | Sensitive to Outliers | Best Used When   |\n",
        "| ------- | ------------- | --------------------- | ---------------- |\n",
        "| Mean    | Shows average | Yes                   | Symmetric data   |\n",
        "| Median  | Middle value  | No                    | Skewed data      |\n",
        "| Mode    | Most frequent | No                    | Categorical data |\n",
        "\n",
        "---\n",
        "\n",
        "### **5. What is the difference between descriptive and inferential statistics? Provide examples.**\n",
        "\n",
        "(Repeated, but restated concisely):\n",
        "\n",
        "* **Descriptive**: E.g., “The average age of 500 students is 20.”\n",
        "* **Inferential**: E.g., “Based on a survey of 500 people, we estimate 70% of voters support X.”\n",
        "\n",
        "---\n",
        "\n",
        "### **6. How do parametric and non-parametric statistics differ? When would you use each?**\n",
        "\n",
        "| Criteria    | Parametric                           | Non-Parametric                |\n",
        "| ----------- | ------------------------------------ | ----------------------------- |\n",
        "| Assumptions | Requires distribution (e.g., normal) | No distribution assumptions   |\n",
        "| Data type   | Interval/ratio                       | Ordinal/nominal or non-normal |\n",
        "| Examples    | t-test, ANOVA                        | Mann-Whitney, Kruskal-Wallis  |\n",
        "\n",
        "**Use non-parametric when:**\n",
        "\n",
        "* Data isn’t normally distributed\n",
        "* Sample size is small\n",
        "* Data is ordinal\n",
        "\n",
        "---\n",
        "\n",
        "### **7. Explain qualitative vs. quantitative statistics with examples.**\n",
        "\n",
        "* **Qualitative (Categorical):** Describes categories\n",
        "\n",
        "  * Examples: Gender, Brand preference, Color\n",
        "* **Quantitative (Numerical):** Measures quantities\n",
        "\n",
        "  * Examples: Age, Salary, Height\n",
        "\n",
        "---\n",
        "\n",
        "### **8. When would you use inferential statistics instead of descriptive statistics?**\n",
        "\n",
        "Use **inferential** when:\n",
        "\n",
        "* You want to **generalize** from a sample to a population.\n",
        "* You need to **test hypotheses** or **predict** outcomes.\n",
        "* Descriptive is insufficient to draw decisions.\n",
        "\n",
        "Example:\n",
        "\n",
        "> You measure average app usage in 1,000 users to infer about 1 million users.\n",
        "\n",
        "---\n",
        "\n",
        "### **9. What are the different types of sampling techniques in statistics?**\n",
        "\n",
        "1. **Simple Random Sampling**\n",
        "2. **Systematic Sampling**\n",
        "3. **Stratified Sampling**\n",
        "4. **Cluster Sampling**\n",
        "5. **Convenience Sampling**\n",
        "6. **Snowball Sampling**\n",
        "\n",
        "| Type       | Use Case                                |\n",
        "| ---------- | --------------------------------------- |\n",
        "| Random     | General surveys                         |\n",
        "| Stratified | Divide population by groups (e.g., age) |\n",
        "| Cluster    | When natural groups exist (cities)      |\n",
        "\n",
        "---\n",
        "\n",
        "### **10. Explain the difference between simple random sampling and stratified sampling.**\n",
        "\n",
        "| Feature     | Simple Random Sampling      | Stratified Sampling                               |\n",
        "| ----------- | --------------------------- | ------------------------------------------------- |\n",
        "| Definition  | Every item has equal chance | Population divided into strata, sampled from each |\n",
        "| When to Use | Homogeneous population      | Heterogeneous population                          |\n",
        "| Example     | Pick 100 names randomly     | Pick 50 males, 50 females from respective groups  |\n",
        "\n",
        "---\n",
        "\n",
        "Great! Here are the detailed **answers with examples** for **Statistics Basics Interview Questions 11–20**, especially useful for roles at Flipkart, Swiggy, TCS, Amazon, and Infosys.\n",
        "\n",
        "---\n",
        "\n",
        "### **11. How does cluster sampling work, and when would you use it?**\n",
        "\n",
        "**Definition:**\n",
        "\n",
        "* Cluster sampling involves dividing the population into clusters (often based on geography or groups), randomly selecting **some clusters**, and collecting data **from all members** within those clusters.\n",
        "\n",
        "**Example:**\n",
        "\n",
        "* To survey schools in India, randomly select 5 states (clusters) and survey all schools in those states.\n",
        "\n",
        "**When to Use:**\n",
        "\n",
        "* When population is too large and scattered.\n",
        "* When cost/time restrictions exist.\n",
        "\n",
        "---\n",
        "\n",
        "### **12. What are the advantages and disadvantages of systematic sampling?**\n",
        "\n",
        "**Definition:**\n",
        "\n",
        "* Select every *k-th* item from a population after a random start.\n",
        "\n",
        "**Advantages:**\n",
        "\n",
        "* Simple to implement.\n",
        "* More evenly distributed samples than random.\n",
        "\n",
        "**Disadvantages:**\n",
        "\n",
        "* Not suitable if data has periodic patterns (can cause bias).\n",
        "* Requires complete population list.\n",
        "\n",
        "**Example:**\n",
        "\n",
        "* Starting at person 3, select every 10th person in a queue.\n",
        "\n",
        "---\n",
        "\n",
        "### **13. What is the difference between nominal, ordinal, interval, and ratio data?**\n",
        "\n",
        "| Type     | Example             | Order | Equal Interval | True Zero |\n",
        "| -------- | ------------------- | ----- | -------------- | --------- |\n",
        "| Nominal  | Gender, Color       | ❌     | ❌              | ❌         |\n",
        "| Ordinal  | Rank, Satisfaction  | ✅     | ❌              | ❌         |\n",
        "| Interval | Temperature (°C)    | ✅     | ✅              | ❌         |\n",
        "| Ratio    | Age, Salary, Height | ✅     | ✅              | ✅         |\n",
        "\n",
        "---\n",
        "\n",
        "### **14. Explain the importance of identifying the data type before performing statistical analysis.**\n",
        "\n",
        "**Why it's important:**\n",
        "\n",
        "* Determines valid operations (e.g., mean only for numerical).\n",
        "* Guides choice of plots (bar chart for categorical, histogram for continuous).\n",
        "* Influences statistical test selection (t-test vs chi-square).\n",
        "\n",
        "**Example:**\n",
        "\n",
        "* You can't compute average for \"City Names\" (nominal).\n",
        "\n",
        "---\n",
        "\n",
        "### **15. How would you differentiate between continuous and discrete data?**\n",
        "\n",
        "| Type       | Characteristics             | Examples                    |\n",
        "| ---------- | --------------------------- | --------------------------- |\n",
        "| Discrete   | Countable, finite values    | Number of students, cars    |\n",
        "| Continuous | Measurable, infinite values | Height, weight, temperature |\n",
        "\n",
        "**Tip:** Continuous data can be divided infinitely; discrete cannot.\n",
        "\n",
        "---\n",
        "\n",
        "### **16. Why is it crucial to know whether data is categorical or numerical in statistics?**\n",
        "\n",
        "**Because:**\n",
        "\n",
        "* It influences analysis method (e.g., mode for categorical, mean for numerical).\n",
        "* Affects choice of statistical tests (ANOVA for numerical, chi-square for categorical).\n",
        "* Drives visualization type (pie chart vs histogram).\n",
        "\n",
        "---\n",
        "\n",
        "### **17. Explain the concept of central tendency in statistics and its importance.**\n",
        "\n",
        "**Definition:**\n",
        "\n",
        "* Measures that represent the center of a dataset.\n",
        "\n",
        "**Importance:**\n",
        "\n",
        "* Gives a quick summary of data.\n",
        "* Helps compare different groups.\n",
        "* Supports decision-making and benchmarking.\n",
        "\n",
        "**Key Measures:** Mean, Median, Mode\n",
        "\n",
        "---\n",
        "\n",
        "### **18. What are the three main measures of central tendency, and when would you use each?**\n",
        "\n",
        "| Measure | Use When Data Is…            | Example                     |\n",
        "| ------- | ---------------------------- | --------------------------- |\n",
        "| Mean    | Symmetric, no outliers       | Average salary of engineers |\n",
        "| Median  | Skewed or has outliers       | Household income            |\n",
        "| Mode    | Categorical or most frequent | Most common product sold    |\n",
        "\n",
        "---\n",
        "\n",
        "### **19. When is the median a better measure than the mean?**\n",
        "\n",
        "* When data is **skewed** or contains **outliers**.\n",
        "* Median is not affected by extreme values.\n",
        "\n",
        "**Example:**\n",
        "\n",
        "* Income distribution: Mean = ₹40K, but one CEO earns ₹10 crore — use **median**.\n",
        "\n",
        "---\n",
        "\n",
        "### **20. How does mode help in understanding the distribution of data?**\n",
        "\n",
        "* Shows the **most frequent** value(s).\n",
        "* Helps understand patterns in **categorical** or **discrete** data.\n",
        "* Useful in marketing, trend analysis, and product demand.\n",
        "\n",
        "**Example:**\n",
        "\n",
        "* In customer data, the mode of age group tells who buys most.\n",
        "\n",
        "---\n",
        "\n",
        "Perfect! Here's the continuation with **Interview Questions 21–30** focusing on **Python implementation of central tendency** and **measure of dispersion** — especially helpful for roles at Microsoft, Swiggy, Flipkart, TCS, Amazon, Uber, Oracle.\n",
        "\n",
        "---\n",
        "\n",
        "### **21. How do you calculate mean, median, and mode in Python using Pandas?**\n",
        "\n",
        "```python\n",
        "import pandas as pd\n",
        "from scipy import stats\n",
        "\n",
        "data = pd.Series([10, 20, 20, 30, 40, 50])\n",
        "\n",
        "mean = data.mean()\n",
        "median = data.median()\n",
        "mode = data.mode()[0]\n",
        "\n",
        "print(f\"Mean: {mean}, Median: {median}, Mode: {mode}\")\n",
        "```\n",
        "\n",
        "---\n",
        "\n",
        "### **22. Write a Python code to compute the mean and median from a list of numbers.**\n",
        "\n",
        "```python\n",
        "import statistics\n",
        "\n",
        "nums = [1, 2, 3, 4, 5, 5]\n",
        "\n",
        "mean = statistics.mean(nums)\n",
        "median = statistics.median(nums)\n",
        "\n",
        "print(f\"Mean: {mean}, Median: {median}\")\n",
        "```\n",
        "\n",
        "---\n",
        "\n",
        "### **23. How can you handle missing data when calculating central tendency in Python?**\n",
        "\n",
        "**Using Pandas:**\n",
        "\n",
        "```python\n",
        "import pandas as pd\n",
        "data = pd.Series([1, 2, None, 4, 5])\n",
        "\n",
        "mean = data.mean(skipna=True)\n",
        "median = data.median(skipna=True)\n",
        "\n",
        "print(f\"Mean: {mean}, Median: {median}\")\n",
        "```\n",
        "\n",
        "You can also fill missing values:\n",
        "\n",
        "```python\n",
        "data_filled = data.fillna(data.mean())\n",
        "```\n",
        "\n",
        "---\n",
        "\n",
        "### **24. Explain how to use the `scipy.stats` module to find the mode in Python.**\n",
        "\n",
        "```python\n",
        "from scipy import stats\n",
        "\n",
        "data = [1, 2, 2, 3, 4, 4, 4, 5]\n",
        "mode_result = stats.mode(data, keepdims=True)\n",
        "\n",
        "print(f\"Mode: {mode_result.mode[0]}, Count: {mode_result.count[0]}\")\n",
        "```\n",
        "\n",
        "---\n",
        "\n",
        "### **25. What is the significance of measuring dispersion in data analysis?**\n",
        "\n",
        "* It shows **how spread out** the data values are.\n",
        "* Helps assess **data consistency** and **risk**.\n",
        "* Crucial in comparing different datasets even if they have the same average.\n",
        "\n",
        "**Example:**\n",
        "Two classes may have same average marks but very different variance.\n",
        "\n",
        "---\n",
        "\n",
        "### **26. Explain the difference between range, variance, and standard deviation.**\n",
        "\n",
        "| Metric             | Description                   |\n",
        "| ------------------ | ----------------------------- |\n",
        "| Range              | Max - Min                     |\n",
        "| Variance           | Average of squared deviations |\n",
        "| Standard Deviation | Square root of variance       |\n",
        "\n",
        "**Note:** SD is in the same unit as original data, variance is not.\n",
        "\n",
        "---\n",
        "\n",
        "### **27. Why is it important to know the variability in a dataset?**\n",
        "\n",
        "* To identify **data stability**.\n",
        "* Understand **risk, consistency**, or **deviation** from the norm.\n",
        "* High variability may indicate **unpredictability** or **noise**.\n",
        "\n",
        "---\n",
        "\n",
        "### **28. How do you interpret a large standard deviation in a dataset?**\n",
        "\n",
        "* Indicates that data points are **widely spread** from the mean.\n",
        "* Possible presence of **outliers** or high variability.\n",
        "* Low SD means data is **clustered near the average**.\n",
        "\n",
        "---\n",
        "\n",
        "### **29. How do you compute variance and standard deviation in a dataset?**\n",
        "\n",
        "**Using Pandas:**\n",
        "\n",
        "```python\n",
        "import pandas as pd\n",
        "\n",
        "data = pd.Series([10, 20, 30, 40, 50])\n",
        "variance = data.var()\n",
        "std_dev = data.std()\n",
        "\n",
        "print(f\"Variance: {variance}, Standard Deviation: {std_dev}\")\n",
        "```\n",
        "\n",
        "**Note:** By default, Pandas calculates **sample variance (n-1)**.\n",
        "\n",
        "---\n",
        "\n",
        "### **30. What does a higher standard deviation indicate about your data?**\n",
        "\n",
        "* Greater **spread**, more **variability**.\n",
        "* Less **predictability**.\n",
        "* In business: Higher SD in revenue may mean **unstable income**.\n",
        "\n",
        "---\n",
        "\n",
        "\n",
        "\n",
        "\n"
      ],
      "metadata": {
        "id": "ZC-r1ayCLEge"
      }
    },
    {
      "cell_type": "code",
      "source": [
        "import pandas as pd\n",
        "\n",
        "data = pd.Series([10, 20, 30, 40, 50])\n",
        "variance = data.var()\n",
        "std_dev = data.std()\n",
        "\n",
        "print(f\"Variance: {variance}, Standard Deviation: {std_dev}\")\n"
      ],
      "metadata": {
        "colab": {
          "base_uri": "https://localhost:8080/"
        },
        "id": "pesLhAuJPfs7",
        "outputId": "c9a08936-9dbf-4bf0-e325-9285a2907eba"
      },
      "execution_count": null,
      "outputs": [
        {
          "output_type": "stream",
          "name": "stdout",
          "text": [
            "Variance: 250.0, Standard Deviation: 15.811388300841896\n"
          ]
        }
      ]
    },
    {
      "cell_type": "code",
      "source": [
        "from scipy import stats\n",
        "\n",
        "data = [1, 2, 2, 3, 4, 4, 4, 5]\n",
        "mode_result = stats.mode(data, keepdims=True)\n",
        "\n",
        "print(f\"Mode: {mode_result.mode[0]}, Count: {mode_result.count[0]}\")\n"
      ],
      "metadata": {
        "colab": {
          "base_uri": "https://localhost:8080/"
        },
        "id": "Hu2RDFn1PnCZ",
        "outputId": "796269ea-643a-4eea-e278-f43ed659aaee"
      },
      "execution_count": null,
      "outputs": [
        {
          "output_type": "stream",
          "name": "stdout",
          "text": [
            "Mode: 4, Count: 3\n"
          ]
        }
      ]
    },
    {
      "cell_type": "code",
      "source": [
        "import pandas as pd\n",
        "data = pd.Series([1, 2, None, 4, 5])\n",
        "\n",
        "mean = data.mean(skipna=True)\n",
        "median = data.median(skipna=True)\n",
        "\n",
        "print(f\"Mean: {mean}, Median: {median}\")\n",
        "data_filled = data.fillna(data.mean())\n"
      ],
      "metadata": {
        "colab": {
          "base_uri": "https://localhost:8080/"
        },
        "id": "wWYKDR-VP2XF",
        "outputId": "7083fcdb-ad95-49eb-b482-731cb1da22bb"
      },
      "execution_count": null,
      "outputs": [
        {
          "output_type": "stream",
          "name": "stdout",
          "text": [
            "Mean: 3.0, Median: 3.0\n"
          ]
        }
      ]
    },
    {
      "cell_type": "code",
      "source": [
        "import statistics\n",
        "\n",
        "nums = [1, 2, 3, 4, 5, 5]\n",
        "\n",
        "mean = statistics.mean(nums)\n",
        "median = statistics.median(nums)\n",
        "\n",
        "print(f\"Mean: {mean}, Median: {median}\")\n"
      ],
      "metadata": {
        "colab": {
          "base_uri": "https://localhost:8080/"
        },
        "id": "W6CBa2vCQd3p",
        "outputId": "da00ee24-24d9-40ae-d4b1-a0b953153141"
      },
      "execution_count": null,
      "outputs": [
        {
          "output_type": "stream",
          "name": "stdout",
          "text": [
            "Mean: 3.3333333333333335, Median: 3.5\n"
          ]
        }
      ]
    },
    {
      "cell_type": "code",
      "source": [
        "import pandas as pd\n",
        "from scipy import stats\n",
        "\n",
        "data = pd.Series([10, 20, 20, 30, 40, 50])\n",
        "\n",
        "mean = data.mean()\n",
        "median = data.median()\n",
        "mode = data.mode()[0]\n",
        "\n",
        "print(f\"Mean: {mean}, Median: {median}, Mode: {mode}\")\n"
      ],
      "metadata": {
        "colab": {
          "base_uri": "https://localhost:8080/"
        },
        "id": "zXWUcS76QtXF",
        "outputId": "7ccfbf06-1042-411c-86c4-32172068eb0d"
      },
      "execution_count": null,
      "outputs": [
        {
          "output_type": "stream",
          "name": "stdout",
          "text": [
            "Mean: 28.333333333333332, Median: 25.0, Mode: 20\n"
          ]
        }
      ]
    },
    {
      "cell_type": "markdown",
      "source": [
        "Great! Let’s now cover **Interview Questions 31–40**, focusing on **Python implementation of variance**, **standard deviation**, and **Skewness concepts** — important for Data Science and Analyst roles at companies like Flipkart, Amazon, Microsoft, Paytm, Uber, and Oracle.\n",
        "\n",
        "---\n",
        "\n",
        "### **31. How does variance differ from standard deviation?**\n",
        "\n",
        "| Aspect           | Variance                      | Standard Deviation         |\n",
        "| ---------------- | ----------------------------- | -------------------------- |\n",
        "| Definition       | Average of squared deviations | Square root of variance    |\n",
        "| Unit             | Squared unit of original data | Same unit as original data |\n",
        "| Interpretability | Harder to interpret           | Easier to understand       |\n",
        "| Use Case         | Often intermediate step       | Directly used in analysis  |\n",
        "\n",
        "---\n",
        "\n",
        "### **32. Why is the standard deviation often preferred over the variance in interpreting data?**\n",
        "\n",
        "* Because it is in the **same unit** as the data.\n",
        "* Makes it **intuitive and easier to communicate**.\n",
        "* For example, saying “the average deviation is 15°C” is more understandable than “225 (°C²)”.\n",
        "\n",
        "---\n",
        "\n",
        "### **33. Why is `n-1` used for sample variance?**\n",
        "\n",
        "* Called **Bessel’s correction**.\n",
        "* It provides an **unbiased estimate** of population variance from a sample.\n",
        "* Dividing by `n` **underestimates** true variance.\n",
        "* Using `n-1` **corrects** this by slightly increasing the value.\n",
        "\n",
        "---\n",
        "\n",
        "### **34. Write Python code to calculate the variance of a given list of numbers.**\n",
        "\n",
        "```python\n",
        "import statistics\n",
        "\n",
        "data = [10, 20, 30, 40, 50]\n",
        "sample_variance = statistics.variance(data)\n",
        "print(\"Sample Variance:\", sample_variance)\n",
        "```\n",
        "\n",
        "---\n",
        "\n",
        "### **35. How would you use NumPy to compute the variance and standard deviation of an array in Python?**\n",
        "\n",
        "```python\n",
        "import numpy as np\n",
        "\n",
        "data = np.array([10, 20, 30, 40, 50])\n",
        "\n",
        "variance = np.var(data, ddof=1)  # ddof=1 for sample variance\n",
        "std_dev = np.std(data, ddof=1)\n",
        "\n",
        "print(f\"Variance: {variance}, Standard Deviation: {std_dev}\")\n",
        "```\n",
        "\n",
        "---\n",
        "\n",
        "### **36. What is the difference between `np.var()` and `np.std()` in Python?**\n",
        "\n",
        "* `np.var()` → returns **variance**\n",
        "* `np.std()` → returns **standard deviation**\n",
        "* Both accept `ddof=0` (population) or `ddof=1` (sample)\n",
        "\n",
        "```python\n",
        "np.var(data)     # variance\n",
        "np.std(data)     # standard deviation\n",
        "```\n",
        "\n",
        "---\n",
        "\n",
        "### **37. How do you handle missing values when calculating variance in Python?**\n",
        "\n",
        "```python\n",
        "import pandas as pd\n",
        "data = pd.Series([10, 20, None, 40, 50])\n",
        "\n",
        "variance = data.var(skipna=True)\n",
        "std_dev = data.std(skipna=True)\n",
        "\n",
        "print(f\"Variance: {variance}, Standard Deviation: {std_dev}\")\n",
        "```\n",
        "\n",
        "Or use:\n",
        "\n",
        "```python\n",
        "data = data.fillna(data.mean())  # Impute missing values\n",
        "```\n",
        "\n",
        "---\n",
        "\n",
        "## 🧭 **Skewness (Measure of Symmetry)**\n",
        "\n",
        "---\n",
        "\n",
        "### **38. Explain the concept of skewness in statistics and its importance in understanding data distribution.**\n",
        "\n",
        "* Skewness measures **asymmetry** of data distribution.\n",
        "* Important to detect **outliers** and **data bias**.\n",
        "* Skewness ≈ 0 → symmetric data.\n",
        "* Positive skew → right-tailed (e.g., income).\n",
        "* Negative skew → left-tailed (e.g., test scores).\n",
        "\n",
        "---\n",
        "\n",
        "### **39. What are the different types of skewness, and how do you identify them?**\n",
        "\n",
        "| Type              | Description          | Visual Shape       |\n",
        "| ----------------- | -------------------- | ------------------ |\n",
        "| Symmetrical       | Mean = Median = Mode | Bell curve         |\n",
        "| Positively skewed | Mean > Median > Mode | Long tail on right |\n",
        "| Negatively skewed | Mean < Median < Mode | Long tail on left  |\n",
        "\n",
        "---\n",
        "\n",
        "### **40. How would you interpret a positively skewed distribution?**\n",
        "\n",
        "* Most values are **concentrated on the left**, few large outliers on the right.\n",
        "* Example: income distribution where **most earn low, few earn very high**.\n",
        "* Mean is **greater than** median.\n",
        "\n",
        "---\n",
        "\n",
        "### **41. How do you calculate skewness using Python libraries like Pandas or Scipy?**\n",
        "\n",
        "```python\n",
        "import pandas as pd\n",
        "from scipy.stats import skew\n",
        "\n",
        "data = pd.Series([10, 12, 13, 15, 22, 27, 70])\n",
        "\n",
        "# Using Pandas\n",
        "print(\"Skewness (Pandas):\", data.skew())\n",
        "\n",
        "# Using SciPy\n",
        "print(\"Skewness (SciPy):\", skew(data))\n",
        "```\n",
        "\n",
        "---\n",
        "\n",
        "\n"
      ],
      "metadata": {
        "id": "DMl-BR7gRXj5"
      }
    },
    {
      "cell_type": "code",
      "source": [
        "import pandas as pd\n",
        "from scipy.stats import skew\n",
        "\n",
        "data = pd.Series([10, 12, 13, 15, 22, 27, 70])\n",
        "\n",
        "# Using Pandas\n",
        "print(\"Skewness (Pandas):\", data.skew())\n",
        "\n",
        "# Using SciPy\n",
        "print(\"Skewness (SciPy):\", skew(data))\n"
      ],
      "metadata": {
        "colab": {
          "base_uri": "https://localhost:8080/"
        },
        "id": "ak2bz6H2RgJ2",
        "outputId": "da2a6647-ae74-43bd-f1c2-047aa666beab"
      },
      "execution_count": null,
      "outputs": [
        {
          "output_type": "stream",
          "name": "stdout",
          "text": [
            "Skewness (Pandas): 2.2279999009531055\n",
            "Skewness (SciPy): 1.718939242161366\n"
          ]
        }
      ]
    },
    {
      "cell_type": "code",
      "source": [
        "import pandas as pd\n",
        "data = pd.Series([10, 20, None, 40, 50])\n",
        "\n",
        "variance = data.var(skipna=True)\n",
        "std_dev = data.std(skipna=True)\n",
        "\n",
        "print(f\"Variance: {variance}, Standard Deviation: {std_dev}\")\n",
        "data = data.fillna(data.mean())  # Impute missing values\n"
      ],
      "metadata": {
        "colab": {
          "base_uri": "https://localhost:8080/"
        },
        "id": "NGmgj6oGRidd",
        "outputId": "20c580be-35fc-4aca-ca04-68bd3c1b0ebc"
      },
      "execution_count": null,
      "outputs": [
        {
          "output_type": "stream",
          "name": "stdout",
          "text": [
            "Variance: 333.3333333333333, Standard Deviation: 18.257418583505537\n"
          ]
        }
      ]
    },
    {
      "cell_type": "code",
      "source": [
        "import numpy as np\n",
        "\n",
        "data = np.array([10, 20, 30, 40, 50])\n",
        "\n",
        "variance = np.var(data, ddof=1)  # ddof=1 for sample variance\n",
        "std_dev = np.std(data, ddof=1)\n",
        "\n",
        "print(f\"Variance: {variance}, Standard Deviation: {std_dev}\")\n"
      ],
      "metadata": {
        "colab": {
          "base_uri": "https://localhost:8080/"
        },
        "id": "ucnyB0mzRrOq",
        "outputId": "bdacc1c9-6727-43df-fd09-aea2217f86d9"
      },
      "execution_count": null,
      "outputs": [
        {
          "output_type": "stream",
          "name": "stdout",
          "text": [
            "Variance: 250.0, Standard Deviation: 15.811388300841896\n"
          ]
        }
      ]
    },
    {
      "cell_type": "code",
      "source": [
        "import statistics\n",
        "\n",
        "data = [10, 20, 30, 40, 50]\n",
        "sample_variance = statistics.variance(data)\n",
        "print(\"Sample Variance:\", sample_variance)\n"
      ],
      "metadata": {
        "colab": {
          "base_uri": "https://localhost:8080/"
        },
        "id": "YYi_2za5R0P-",
        "outputId": "e85cd8d3-0b2b-4446-e141-f64aaae2fe8f"
      },
      "execution_count": null,
      "outputs": [
        {
          "output_type": "stream",
          "name": "stdout",
          "text": [
            "Sample Variance: 250\n"
          ]
        }
      ]
    },
    {
      "cell_type": "code",
      "source": [
        "import pandas as pd\n",
        "from scipy.stats import skew\n",
        "\n",
        "data = pd.Series([10, 12, 13, 15, 22, 27, 70])\n",
        "\n",
        "# Using Pandas\n",
        "print(\"Skewness (Pandas):\", data.skew())\n",
        "\n",
        "# Using SciPy\n",
        "print(\"Skewness (SciPy):\", skew(data))\n"
      ],
      "metadata": {
        "colab": {
          "base_uri": "https://localhost:8080/"
        },
        "id": "lFX9Fbu7R2xn",
        "outputId": "a879ff81-88b4-456e-f69b-342a835dcb3f"
      },
      "execution_count": null,
      "outputs": [
        {
          "output_type": "stream",
          "name": "stdout",
          "text": [
            "Skewness (Pandas): 2.2279999009531055\n",
            "Skewness (SciPy): 1.718939242161366\n"
          ]
        }
      ]
    },
    {
      "cell_type": "code",
      "source": [
        "import pandas as pd\n",
        "data = pd.Series([10, 20, None, 40, 50])\n",
        "\n",
        "variance = data.var(skipna=True)\n",
        "std_dev = data.std(skipna=True)\n",
        "\n",
        "print(f\"Variance: {variance}, Standard Deviation: {std_dev}\")\n",
        "data = data.fillna(data.mean())  # Impute missing values\n"
      ],
      "metadata": {
        "colab": {
          "base_uri": "https://localhost:8080/"
        },
        "id": "_FP0v1_-Sq8I",
        "outputId": "ab9abb19-5b9c-4510-a87d-79588c186ac8"
      },
      "execution_count": null,
      "outputs": [
        {
          "output_type": "stream",
          "name": "stdout",
          "text": [
            "Variance: 333.3333333333333, Standard Deviation: 18.257418583505537\n"
          ]
        }
      ]
    },
    {
      "cell_type": "markdown",
      "source": [
        "Great! Let’s now move on to **Interview Questions 42–48**, which focus on **Set theory and its application in statistics and Python**. These are important for **Data Engineer** and **Data Analyst** roles at companies like **Google** and **TCS**.\n",
        "\n",
        "---\n",
        "\n",
        "## 📘 **Set Theory in Statistics**\n",
        "\n",
        "---\n",
        "\n",
        "### **42. Explain the difference between union, intersection, and complement of sets in statistics.**\n",
        "\n",
        "* **Union (A ∪ B):** Combines elements from both sets A and B.\n",
        "  → Example: Students who play football **or** cricket.\n",
        "\n",
        "* **Intersection (A ∩ B):** Only includes common elements in both A and B.\n",
        "  → Example: Students who play both football **and** cricket.\n",
        "\n",
        "* **Complement (A′):** Includes all elements **not** in set A.\n",
        "  → Example: Students who **do not** play football.\n",
        "\n",
        "---\n",
        "\n",
        "### **43. Why are sets important in understanding probability distributions?**\n",
        "\n",
        "* They define **events** in probability.\n",
        "* Used in operations like:\n",
        "\n",
        "  * **P(A ∪ B)**: Probability of either event A or B.\n",
        "  * **P(A ∩ B)**: Joint probability.\n",
        "* Foundation of **Venn diagrams**, **sample space**, and **event algebra**.\n",
        "\n",
        "---\n",
        "\n",
        "### **44. How are sets used in real-life data science problems?**\n",
        "\n",
        "* **Filtering** data by attributes.\n",
        "* **Set operations** to find overlaps in user behavior (e.g., users who bought X and Y).\n",
        "* **Deduplication** and **grouping**.\n",
        "* **Segmentation**: Marketing lists, fraud detection, etc.\n",
        "\n",
        "---\n",
        "\n",
        "### **45. How do you create and manipulate sets in Python using the built-in `set()` function?**\n",
        "\n",
        "```python\n",
        "a = set([1, 2, 3, 4])\n",
        "b = set([3, 4, 5, 6])\n",
        "\n",
        "print(\"Union:\", a | b)\n",
        "print(\"Intersection:\", a & b)\n",
        "print(\"Difference:\", a - b)\n",
        "print(\"Symmetric Difference:\", a ^ b)\n",
        "```\n",
        "\n",
        "---\n",
        "\n",
        "### **46. Write a Python code to compute the union and intersection of two sets.**\n",
        "\n",
        "```python\n",
        "set1 = {10, 20, 30, 40}\n",
        "set2 = {30, 40, 50, 60}\n",
        "\n",
        "union_set = set1.union(set2)\n",
        "intersection_set = set1.intersection(set2)\n",
        "\n",
        "print(\"Union:\", union_set)\n",
        "print(\"Intersection:\", intersection_set)\n",
        "```\n",
        "\n",
        "---\n",
        "\n",
        "### **47. Explain how to remove duplicates from a list using Python sets.**\n",
        "\n",
        "```python\n",
        "data = [1, 2, 2, 3, 4, 4, 5]\n",
        "unique_data = list(set(data))\n",
        "print(\"Unique items:\", unique_data)\n",
        "```\n",
        "\n",
        "---\n",
        "\n",
        "### **48. How do you check if one set is a subset of another in Python?**\n",
        "\n",
        "```python\n",
        "a = {1, 2, 3}\n",
        "b = {1, 2, 3, 4, 5}\n",
        "\n",
        "print(\"Is a subset of b?\", a.issubset(b))\n",
        "```\n",
        "\n",
        "---\n",
        "\n",
        "\n"
      ],
      "metadata": {
        "id": "zUCYVLb-U3De"
      }
    },
    {
      "cell_type": "code",
      "source": [
        "a = {1, 2, 3}\n",
        "b = {1, 2, 3, 4, 5}\n",
        "\n",
        "print(\"Is a subset of b?\", a.issubset(b))\n"
      ],
      "metadata": {
        "colab": {
          "base_uri": "https://localhost:8080/"
        },
        "id": "Uy82qf-eU6C5",
        "outputId": "e81cfeca-12ba-4230-c7ad-ee352a366bc7"
      },
      "execution_count": null,
      "outputs": [
        {
          "output_type": "stream",
          "name": "stdout",
          "text": [
            "Is a subset of b? True\n"
          ]
        }
      ]
    },
    {
      "cell_type": "code",
      "source": [
        "data = [1, 2, 2, 3, 4, 4, 5]\n",
        "unique_data = list(set(data))\n",
        "print(\"Unique items:\", unique_data)\n"
      ],
      "metadata": {
        "colab": {
          "base_uri": "https://localhost:8080/"
        },
        "id": "DeMxv4KXU8v5",
        "outputId": "0d9d8a9e-13a9-40a7-814e-6e4ede1f21e0"
      },
      "execution_count": null,
      "outputs": [
        {
          "output_type": "stream",
          "name": "stdout",
          "text": [
            "Unique items: [1, 2, 3, 4, 5]\n"
          ]
        }
      ]
    },
    {
      "cell_type": "code",
      "source": [
        "set1 = {10, 20, 30, 40}\n",
        "set2 = {30, 40, 50, 60}\n",
        "\n",
        "union_set = set1.union(set2)\n",
        "intersection_set = set1.intersection(set2)\n",
        "\n",
        "print(\"Union:\", union_set)\n",
        "print(\"Intersection:\", intersection_set)\n"
      ],
      "metadata": {
        "colab": {
          "base_uri": "https://localhost:8080/"
        },
        "id": "kJB8sTNyU_3M",
        "outputId": "5d6d610d-6e38-4653-a3b1-da530f117ea4"
      },
      "execution_count": null,
      "outputs": [
        {
          "output_type": "stream",
          "name": "stdout",
          "text": [
            "Union: {40, 10, 50, 20, 60, 30}\n",
            "Intersection: {40, 30}\n"
          ]
        }
      ]
    },
    {
      "cell_type": "code",
      "source": [
        "a = set([1, 2, 3, 4])\n",
        "b = set([3, 4, 5, 6])\n",
        "\n",
        "print(\"Union:\", a | b)\n",
        "print(\"Intersection:\", a & b)\n",
        "print(\"Difference:\", a - b)\n",
        "print(\"Symmetric Difference:\", a ^ b)\n"
      ],
      "metadata": {
        "colab": {
          "base_uri": "https://localhost:8080/"
        },
        "id": "27p3VDcHVBPx",
        "outputId": "70cfffa9-d33a-48a7-f92d-8a90fe86ff31"
      },
      "execution_count": null,
      "outputs": [
        {
          "output_type": "stream",
          "name": "stdout",
          "text": [
            "Union: {1, 2, 3, 4, 5, 6}\n",
            "Intersection: {3, 4}\n",
            "Difference: {1, 2}\n",
            "Symmetric Difference: {1, 2, 5, 6}\n"
          ]
        }
      ]
    },
    {
      "cell_type": "markdown",
      "source": [
        "Excellent! Let's now cover **Questions 49–56**, focusing on **Covariance and Correlation** — crucial for roles like **Data Scientist** and **Business Analyst** at companies such as **Google**, **Uber**, **Flipkart**, and **Amazon**.\n",
        "\n",
        "---\n",
        "\n",
        "## 📘 **Covariance & Correlation: Theory + Python**\n",
        "\n",
        "---\n",
        "\n",
        "### **49. Explain the difference between covariance and correlation.**\n",
        "\n",
        "| Feature    | Covariance                                  | Correlation                                                   |\n",
        "| ---------- | ------------------------------------------- | ------------------------------------------------------------- |\n",
        "| Definition | Measures how two variables change together. | Measures both strength **and direction** of the relationship. |\n",
        "| Scale      | Not standardized (depends on units).        | Standardized (range: -1 to +1).                               |\n",
        "| Value      | Can be any number.                          | Always between -1 and 1.                                      |\n",
        "\n",
        "---\n",
        "\n",
        "### **50. When would you use covariance instead of correlation?**\n",
        "\n",
        "* When you only want to know **whether two variables move together** (positive or negative), **without needing the strength** or normalization.\n",
        "* Used in **portfolio theory** in finance.\n",
        "\n",
        "---\n",
        "\n",
        "### **51. Why is correlation preferred over covariance in many cases?**\n",
        "\n",
        "* It’s **unit-free** and **easier to interpret**.\n",
        "* Helps in comparing relationships across different pairs of variables, especially in **feature selection**.\n",
        "\n",
        "---\n",
        "\n",
        "### **52. How does correlation help in understanding relationships between variables?**\n",
        "\n",
        "* Indicates:\n",
        "\n",
        "  * **Strength** of the relationship (closer to ±1 = stronger).\n",
        "  * **Direction** of the relationship (positive or negative).\n",
        "* Useful in:\n",
        "\n",
        "  * **Multicollinearity detection**\n",
        "  * **Predictive modeling**\n",
        "  * **Exploratory Data Analysis (EDA)**\n",
        "\n",
        "---\n",
        "\n",
        "## 🐍 **Python Code: Covariance & Correlation**\n",
        "\n",
        "---\n",
        "\n",
        "### **53. Write Python code to calculate the covariance between two variables using NumPy.**\n",
        "\n",
        "```python\n",
        "import numpy as np\n",
        "\n",
        "x = np.array([2, 4, 6, 8])\n",
        "y = np.array([1, 3, 5, 7])\n",
        "\n",
        "cov_matrix = np.cov(x, y)\n",
        "print(\"Covariance matrix:\\n\", cov_matrix)\n",
        "print(\"Covariance (x & y):\", cov_matrix[0][1])\n",
        "```\n",
        "\n",
        "---\n",
        "\n",
        "### **54. How would you calculate Pearson correlation in Python using Pandas?**\n",
        "\n",
        "```python\n",
        "import pandas as pd\n",
        "\n",
        "df = pd.DataFrame({\n",
        "    'A': [1, 2, 3, 4],\n",
        "    'B': [4, 5, 6, 7]\n",
        "})\n",
        "\n",
        "corr = df['A'].corr(df['B'], method='pearson')\n",
        "print(\"Pearson Correlation:\", corr)\n",
        "```\n",
        "\n",
        "---\n",
        "\n",
        "### **55. Explain how to create a correlation matrix in Python using Pandas.**\n",
        "\n",
        "```python\n",
        "import pandas as pd\n",
        "\n",
        "data = {\n",
        "    'X': [1, 2, 3, 4],\n",
        "    'Y': [2, 4, 6, 8],\n",
        "    'Z': [5, 3, 1, 0]\n",
        "}\n",
        "\n",
        "df = pd.DataFrame(data)\n",
        "print(\"Correlation Matrix:\\n\", df.corr())\n",
        "```\n",
        "\n",
        "---\n",
        "\n",
        "### **56. What is the difference between Pearson and Spearman correlation, and how do you implement both in Python?**\n",
        "\n",
        "* **Pearson**: Assumes linear relationship, affected by outliers.\n",
        "* **Spearman**: Rank-based, good for non-linear relationships and robust to outliers.\n",
        "\n",
        "```python\n",
        "import pandas as pd\n",
        "\n",
        "df = pd.DataFrame({\n",
        "    'A': [10, 20, 30, 40],\n",
        "    'B': [15, 25, 35, 45]\n",
        "})\n",
        "\n",
        "# Pearson\n",
        "print(\"Pearson Correlation:\", df['A'].corr(df['B'], method='pearson'))\n",
        "\n",
        "# Spearman\n",
        "print(\"Spearman Correlation:\", df['A'].corr(df['B'], method='spearman'))\n",
        "```\n",
        "\n",
        "---\n",
        "\n",
        "\n"
      ],
      "metadata": {
        "id": "xMq9emuyVweJ"
      }
    },
    {
      "cell_type": "code",
      "source": [
        "import pandas as pd\n",
        "\n",
        "df = pd.DataFrame({\n",
        "    'A': [10, 20, 30, 40],\n",
        "    'B': [15, 25, 35, 45]\n",
        "})\n",
        "\n",
        "# Pearson\n",
        "print(\"Pearson Correlation:\", df['A'].corr(df['B'], method='pearson'))\n",
        "\n",
        "# Spearman\n",
        "print(\"Spearman Correlation:\", df['A'].corr(df['B'], method='spearman'))\n"
      ],
      "metadata": {
        "colab": {
          "base_uri": "https://localhost:8080/"
        },
        "id": "c1r94Vs9V89Q",
        "outputId": "88a0bc2a-05d8-49fa-ea69-3d22e596baba"
      },
      "execution_count": null,
      "outputs": [
        {
          "output_type": "stream",
          "name": "stdout",
          "text": [
            "Pearson Correlation: 1.0\n",
            "Spearman Correlation: 1.0\n"
          ]
        }
      ]
    },
    {
      "cell_type": "code",
      "source": [
        "import pandas as pd\n",
        "\n",
        "data = {\n",
        "    'X': [1, 2, 3, 4],\n",
        "    'Y': [2, 4, 6, 8],\n",
        "    'Z': [5, 3, 1, 0]\n",
        "}\n",
        "\n",
        "df = pd.DataFrame(data)\n",
        "print(\"Correlation Matrix:\\n\", df.corr())\n"
      ],
      "metadata": {
        "colab": {
          "base_uri": "https://localhost:8080/"
        },
        "id": "em9-db1UV_Xd",
        "outputId": "a62e590e-4bfd-430b-959c-5ac3e13aa626"
      },
      "execution_count": null,
      "outputs": [
        {
          "output_type": "stream",
          "name": "stdout",
          "text": [
            "Correlation Matrix:\n",
            "           X         Y         Z\n",
            "X  1.000000  1.000000 -0.989778\n",
            "Y  1.000000  1.000000 -0.989778\n",
            "Z -0.989778 -0.989778  1.000000\n"
          ]
        }
      ]
    },
    {
      "cell_type": "code",
      "source": [
        "import pandas as pd\n",
        "\n",
        "df = pd.DataFrame({\n",
        "    'A': [1, 2, 3, 4],\n",
        "    'B': [4, 5, 6, 7]\n",
        "})\n",
        "\n",
        "corr = df['A'].corr(df['B'], method='pearson')\n",
        "print(\"Pearson Correlation:\", corr)\n"
      ],
      "metadata": {
        "id": "0_mxrkt3WDIk",
        "outputId": "0216ad1e-33aa-412a-8254-5618dade7803",
        "colab": {
          "base_uri": "https://localhost:8080/"
        }
      },
      "execution_count": null,
      "outputs": [
        {
          "output_type": "stream",
          "name": "stdout",
          "text": [
            "Pearson Correlation: 1.0\n"
          ]
        }
      ]
    },
    {
      "cell_type": "code",
      "source": [
        "import numpy as np\n",
        "\n",
        "x = np.array([2, 4, 6, 8])\n",
        "y = np.array([1, 3, 5, 7])\n",
        "\n",
        "cov_matrix = np.cov(x, y)\n",
        "print(\"Covariance matrix:\\n\", cov_matrix)\n",
        "print(\"Covariance (x & y):\", cov_matrix[0][1])\n"
      ],
      "metadata": {
        "id": "cY3r1xd3WF1v",
        "outputId": "f6ce7744-1a70-4888-91f6-d33f5d80090b",
        "colab": {
          "base_uri": "https://localhost:8080/"
        }
      },
      "execution_count": null,
      "outputs": [
        {
          "output_type": "stream",
          "name": "stdout",
          "text": [
            "Covariance matrix:\n",
            " [[6.66666667 6.66666667]\n",
            " [6.66666667 6.66666667]]\n",
            "Covariance (x & y): 6.666666666666666\n"
          ]
        }
      ]
    }
  ]
}